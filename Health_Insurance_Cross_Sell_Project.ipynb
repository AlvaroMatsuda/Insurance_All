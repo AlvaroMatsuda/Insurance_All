{
 "cells": [
  {
   "cell_type": "markdown",
   "metadata": {},
   "source": [
    "# **CONTEXT**"
   ]
  },
  {
   "cell_type": "markdown",
   "metadata": {},
   "source": [
    "**Company Name:** Insurance All\n",
    "\n",
    "**Product/Service:** Offer Health Insurance\n",
    "\n",
    "**Business Model:** An insurance policy is an arrangement by which a company undertakes to provide a guarantee of compensation for specified loss, damage, illness, or death in return for the payment of a specified premium. A premium is a sum of money that the customer needs to pay regularly to an insurance company for this guarantee.\n",
    "\n",
    "**Current Situation:** Now they want to offer a car insurance. Last year they did a research with their 380 thousand customers about their interest in getting a car insurance, and the results has been storage in a database together with others customers attributes.\n",
    "The product team selected 127 thousand new customers to participate in a marketing campaing that will be offering the new car insurance to them. The campaing will be made through phone calls by the sales team.\n",
    "\n",
    "**Problem:** The problem is that the sales team has capacity of making only 20 thousand calls on the period the campaing will be running.\n",
    "\n",
    "**Proposed Solution:** Predict the likelihood of the customer of getting the car insurance so that the sales team can prioritize which customer to call to have a better conversion rate.\n",
    "\n",
    "**Deliverables:** A report answering the following questions:\n",
    "\n",
    "   **1.** Main insights of the most relevant attributes of the customers interested in getting the car insurance;\n",
    "    \n",
    "   **2.** Percentage of interested customers the sales team will be able to call with 20.000 calls;\n",
    "    \n",
    "   **3.** Percentage of interested customers the sales team will be able to call with 40.000 calls;\n",
    "    \n",
    "   **4.** How many calls the sales team have to make to reach 80% of the interested customers."
   ]
  },
  {
   "cell_type": "markdown",
   "metadata": {},
   "source": [
    "# SPRINTS"
   ]
  },
  {
   "cell_type": "markdown",
   "metadata": {},
   "source": [
    "**SPRINT 1 (05/01 - 12/01)**\n",
    "- <s>Solution Planning (Done)</s>;\n",
    "- <s>Data Collection (Done)</s>;\n",
    "    \n",
    "**SPRINT 2 (12/01 - 19/01)**\n",
    "- Descriptive Analysis;\n",
    "- Business Research (What is a cross-sell);\n",
    "\n",
    "**SPRINT 3 (19/01 - 26/01)**\n",
    "- EDA;\n",
    "- Insight Report;\n",
    "\n",
    "**SPRINT 4 (26/01 - 02/02)**\n",
    "- Data Preparation;\n",
    "\n",
    "**SPRINT 5 (02/02 - 09/02)**\n",
    "- Implementation of Machine Learning Models;\n",
    "\n",
    "**SPRINT 6 (09/02 - 16/02)**\n",
    "- Business Metrics (KPI);\n",
    "- Translate to business metrics;\n",
    "\n",
    "**SPRINT 7 (16/02 - 23/02)**\n",
    "- Deploy of the Model in Production;\n",
    "\n",
    "**SPRINT 8 (23/02 - 02/03)**\n",
    "- Access of the data in the Model in Production;\n",
    "\n",
    "**SPRINT 9 (02/03 - 09/03)**\n",
    "- Presentation to Business Team;\n",
    "\n",
    "**SPRINT 10 (09/03 - 16/03)**\n",
    "- Write an article;\n",
    "- What I Learned;"
   ]
  },
  {
   "cell_type": "markdown",
   "metadata": {},
   "source": [
    "# IMPORTS"
   ]
  },
  {
   "cell_type": "code",
   "execution_count": 72,
   "metadata": {
    "ExecuteTime": {
     "end_time": "2021-01-12T02:19:58.525809Z",
     "start_time": "2021-01-12T02:19:58.521628Z"
    }
   },
   "outputs": [],
   "source": [
    "# Data Manipulation\n",
    "import pandas as pd\n",
    "import numpy as np\n",
    "import statistics as st\n",
    "\n",
    "# General Utilities\n",
    "import pickle\n",
    "import warnings\n",
    "warnings.filterwarnings('ignore')\n",
    "\n",
    "# Database Library\n",
    "import psycopg2\n"
   ]
  },
  {
   "cell_type": "markdown",
   "metadata": {
    "heading_collapsed": true
   },
   "source": [
    "# 1.0. SOLUTION PLANNING"
   ]
  },
  {
   "cell_type": "markdown",
   "metadata": {
    "hidden": true
   },
   "source": [
    "- Build a Machine Learning model to calculate the likelihood of customers getting the car insurance. For that we will do the following steps:\n",
    "    - Data Collecting: from the Database;\n",
    "    - Descriptive analysis:  see how the data is. (To see how much work needs to be done to processing data.)\n",
    "    - Exploratory Data Analisys:  see the behavior of the data (features).\n",
    "    - Data Preparation: Preparating data to fit into machine learning model;\n",
    "    - Implementation of machine learning models;\n",
    "    - Interpretating the metrics of the model;\n",
    "    - Translating the model metrics to business metrics;\n",
    "    - Deploy of the model in production;\n",
    " "
   ]
  },
  {
   "cell_type": "markdown",
   "metadata": {
    "hidden": true
   },
   "source": [
    "## 1.1. Main insights of the most relevant attributes of the customers interested in getting the car insurance;"
   ]
  },
  {
   "cell_type": "markdown",
   "metadata": {
    "hidden": true
   },
   "source": [
    "- Separete the data from customers that are interested from those that are not interested in getting a car insurance;\n",
    "- Compare the data between those that are interested and those that are not interested;\n",
    "- See if there are any insight. (different behavior in datas)"
   ]
  },
  {
   "cell_type": "markdown",
   "metadata": {
    "hidden": true
   },
   "source": [
    "## 1.2. Percentage of interested customers the sales team will be able to call with 20.000 calls;"
   ]
  },
  {
   "cell_type": "markdown",
   "metadata": {
    "hidden": true
   },
   "source": [
    "- Use Machine Learning to predict the total number of customers that are interested in getting a car insurence from those 127 thousand customers that will be participating in the marketing campaing;\n",
    "- From that, we can calculate the percentage of customers the sales team will be able to reach with 20.000 calls."
   ]
  },
  {
   "cell_type": "markdown",
   "metadata": {
    "hidden": true
   },
   "source": [
    "## 1.3. Percentage of interested custumers the sales team will be able to call with 40.000 calls;"
   ]
  },
  {
   "cell_type": "markdown",
   "metadata": {
    "hidden": true
   },
   "source": [
    "- Same as 1.2."
   ]
  },
  {
   "cell_type": "markdown",
   "metadata": {
    "hidden": true
   },
   "source": [
    "## 1.4. How many calls the sales team have to make to reach 80% of the interested custumers."
   ]
  },
  {
   "cell_type": "markdown",
   "metadata": {
    "hidden": true
   },
   "source": [
    "- After calculating the total number of customers interested in getting car insurance, we can calculate how many calls would be necessary to reach 80% of those customers."
   ]
  },
  {
   "cell_type": "markdown",
   "metadata": {
    "ExecuteTime": {
     "end_time": "2021-01-06T21:39:40.868247Z",
     "start_time": "2021-01-06T21:39:39.167565Z"
    }
   },
   "source": [
    "# 2.0. GETTING THE DATA FROM DATABASE"
   ]
  },
  {
   "cell_type": "code",
   "execution_count": 2,
   "metadata": {
    "ExecuteTime": {
     "end_time": "2021-01-11T22:58:40.144379Z",
     "start_time": "2021-01-11T22:58:39.015008Z"
    }
   },
   "outputs": [],
   "source": [
    "# Credentials of the Database\n",
    "host = 'comunidade-ds-postgres.c50pcakiuwi3.us-east-1.rds.amazonaws.com'\n",
    "port = 5432\n",
    "database = 'comunidadedsdb'\n",
    "username = 'member'\n",
    "password = 'cdspa'\n",
    "\n",
    "# Connecting to Database\n",
    "conn = psycopg2.connect(host=host, port=port, database=database, user=username, password=password)\n",
    "\n",
    "# Cursor\n",
    "cursor = conn.cursor()"
   ]
  },
  {
   "cell_type": "code",
   "execution_count": 3,
   "metadata": {
    "ExecuteTime": {
     "end_time": "2021-01-11T22:58:40.558185Z",
     "start_time": "2021-01-11T22:58:40.152706Z"
    }
   },
   "outputs": [
    {
     "name": "stdout",
     "output_type": "stream",
     "text": [
      "[('pg_catalog',), ('information_schema',), ('public',), ('pa004',)]\n"
     ]
    }
   ],
   "source": [
    "# Listing Schemas\n",
    "cursor.execute(\"select schema_name from information_schema.schemata;\")\n",
    "print (cursor.fetchall())"
   ]
  },
  {
   "cell_type": "code",
   "execution_count": 4,
   "metadata": {
    "ExecuteTime": {
     "end_time": "2021-01-11T22:58:40.759607Z",
     "start_time": "2021-01-11T22:58:40.566528Z"
    }
   },
   "outputs": [
    {
     "name": "stdout",
     "output_type": "stream",
     "text": [
      "[('users',), ('vehicle',), ('insurance',)]\n"
     ]
    }
   ],
   "source": [
    "# Showing tables from Database\n",
    "cursor.execute(\"select relname from pg_class where relkind='r' and relname !~ '^(pg_|sql_)';\")\n",
    "print (cursor.fetchall())"
   ]
  },
  {
   "cell_type": "code",
   "execution_count": 5,
   "metadata": {
    "ExecuteTime": {
     "end_time": "2021-01-11T22:58:41.291846Z",
     "start_time": "2021-01-11T22:58:40.765437Z"
    }
   },
   "outputs": [
    {
     "data": {
      "text/html": [
       "<div>\n",
       "<style scoped>\n",
       "    .dataframe tbody tr th:only-of-type {\n",
       "        vertical-align: middle;\n",
       "    }\n",
       "\n",
       "    .dataframe tbody tr th {\n",
       "        vertical-align: top;\n",
       "    }\n",
       "\n",
       "    .dataframe thead th {\n",
       "        text-align: right;\n",
       "    }\n",
       "</style>\n",
       "<table border=\"1\" class=\"dataframe\">\n",
       "  <thead>\n",
       "    <tr style=\"text-align: right;\">\n",
       "      <th></th>\n",
       "      <th>0</th>\n",
       "      <th>1</th>\n",
       "      <th>2</th>\n",
       "      <th>3</th>\n",
       "      <th>4</th>\n",
       "    </tr>\n",
       "  </thead>\n",
       "  <tbody>\n",
       "    <tr>\n",
       "      <th>user</th>\n",
       "      <td>id</td>\n",
       "      <td>gender</td>\n",
       "      <td>age</td>\n",
       "      <td>region_code</td>\n",
       "      <td>policy_sales_channel</td>\n",
       "    </tr>\n",
       "    <tr>\n",
       "      <th>vehicle</th>\n",
       "      <td>id</td>\n",
       "      <td>driving_license</td>\n",
       "      <td>vehicle_age</td>\n",
       "      <td>vehicle_damage</td>\n",
       "      <td>None</td>\n",
       "    </tr>\n",
       "    <tr>\n",
       "      <th>insurance</th>\n",
       "      <td>id</td>\n",
       "      <td>previously_insured</td>\n",
       "      <td>annual_premium</td>\n",
       "      <td>vintage</td>\n",
       "      <td>response</td>\n",
       "    </tr>\n",
       "  </tbody>\n",
       "</table>\n",
       "</div>"
      ],
      "text/plain": [
       "            0                   1               2               3  \\\n",
       "user       id              gender             age     region_code   \n",
       "vehicle    id     driving_license     vehicle_age  vehicle_damage   \n",
       "insurance  id  previously_insured  annual_premium         vintage   \n",
       "\n",
       "                              4  \n",
       "user       policy_sales_channel  \n",
       "vehicle                    None  \n",
       "insurance              response  "
      ]
     },
     "execution_count": 5,
     "metadata": {},
     "output_type": "execute_result"
    }
   ],
   "source": [
    "# Selecting to get columns name from tables (users, vehicle, insurance)\n",
    "\n",
    "# users\n",
    "query = \"SELECT column_name FROM information_schema.columns WHERE table_name ='users'\"\n",
    "cursor.execute(query)\n",
    "cols_user = list(map(lambda x: x[0], cursor.fetchall()))\n",
    "\n",
    "# vehicle\n",
    "query = \"SELECT column_name FROM information_schema.columns WHERE table_name ='vehicle'\"\n",
    "cursor.execute(query)\n",
    "cols_vehicle = list(map(lambda x: x[0], cursor.fetchall()))\n",
    "\n",
    "# insurance\n",
    "query = \"SELECT column_name FROM information_schema.columns WHERE table_name ='insurance'\"\n",
    "cursor.execute(query)\n",
    "cols_insurance = list(map(lambda x: x[0], cursor.fetchall()))\n",
    "\n",
    "# showing column names\n",
    "cols_all = pd.DataFrame([cols_user, cols_vehicle, cols_insurance])\n",
    "cols_all.rename(index={0:'user', 1:'vehicle', 2:'insurance'})"
   ]
  },
  {
   "cell_type": "code",
   "execution_count": 6,
   "metadata": {
    "ExecuteTime": {
     "end_time": "2021-01-11T22:59:07.650235Z",
     "start_time": "2021-01-11T22:58:41.293419Z"
    }
   },
   "outputs": [],
   "source": [
    "# Selecting get data from tables (users, vehicle, insurance)\n",
    "\n",
    "# users\n",
    "query = \"SELECT * FROM pa004.users\"\n",
    "cursor.execute(query)\n",
    "df_users = pd.DataFrame(cursor.fetchall(), columns=cols_user)\n",
    "\n",
    "# vehicle\n",
    "query = \"SELECT * FROM pa004.vehicle\"\n",
    "cursor.execute(query)\n",
    "df_vehicle = pd.DataFrame(cursor.fetchall(), columns=cols_vehicle)\n",
    "\n",
    "# insurance\n",
    "query = \"SELECT * FROM pa004.insurance\"\n",
    "cursor.execute(query)\n",
    "df_insurance = pd.DataFrame(cursor.fetchall(), columns=cols_insurance)"
   ]
  },
  {
   "cell_type": "code",
   "execution_count": 7,
   "metadata": {
    "ExecuteTime": {
     "end_time": "2021-01-11T22:59:07.965182Z",
     "start_time": "2021-01-11T22:59:07.651713Z"
    }
   },
   "outputs": [
    {
     "data": {
      "text/html": [
       "<div>\n",
       "<style scoped>\n",
       "    .dataframe tbody tr th:only-of-type {\n",
       "        vertical-align: middle;\n",
       "    }\n",
       "\n",
       "    .dataframe tbody tr th {\n",
       "        vertical-align: top;\n",
       "    }\n",
       "\n",
       "    .dataframe thead th {\n",
       "        text-align: right;\n",
       "    }\n",
       "</style>\n",
       "<table border=\"1\" class=\"dataframe\">\n",
       "  <thead>\n",
       "    <tr style=\"text-align: right;\">\n",
       "      <th></th>\n",
       "      <th>id</th>\n",
       "      <th>gender</th>\n",
       "      <th>age</th>\n",
       "      <th>region_code</th>\n",
       "      <th>policy_sales_channel</th>\n",
       "      <th>driving_license</th>\n",
       "      <th>vehicle_age</th>\n",
       "      <th>vehicle_damage</th>\n",
       "      <th>previously_insured</th>\n",
       "      <th>annual_premium</th>\n",
       "      <th>vintage</th>\n",
       "      <th>response</th>\n",
       "    </tr>\n",
       "  </thead>\n",
       "  <tbody>\n",
       "    <tr>\n",
       "      <th>0</th>\n",
       "      <td>1</td>\n",
       "      <td>Male</td>\n",
       "      <td>44</td>\n",
       "      <td>28.0</td>\n",
       "      <td>26.0</td>\n",
       "      <td>1</td>\n",
       "      <td>&gt; 2 Years</td>\n",
       "      <td>Yes</td>\n",
       "      <td>0</td>\n",
       "      <td>40454.0</td>\n",
       "      <td>217</td>\n",
       "      <td>1</td>\n",
       "    </tr>\n",
       "    <tr>\n",
       "      <th>1</th>\n",
       "      <td>2</td>\n",
       "      <td>Male</td>\n",
       "      <td>76</td>\n",
       "      <td>3.0</td>\n",
       "      <td>26.0</td>\n",
       "      <td>1</td>\n",
       "      <td>1-2 Year</td>\n",
       "      <td>No</td>\n",
       "      <td>0</td>\n",
       "      <td>33536.0</td>\n",
       "      <td>183</td>\n",
       "      <td>0</td>\n",
       "    </tr>\n",
       "    <tr>\n",
       "      <th>2</th>\n",
       "      <td>3</td>\n",
       "      <td>Male</td>\n",
       "      <td>47</td>\n",
       "      <td>28.0</td>\n",
       "      <td>26.0</td>\n",
       "      <td>1</td>\n",
       "      <td>&gt; 2 Years</td>\n",
       "      <td>Yes</td>\n",
       "      <td>0</td>\n",
       "      <td>38294.0</td>\n",
       "      <td>27</td>\n",
       "      <td>1</td>\n",
       "    </tr>\n",
       "    <tr>\n",
       "      <th>3</th>\n",
       "      <td>4</td>\n",
       "      <td>Male</td>\n",
       "      <td>21</td>\n",
       "      <td>11.0</td>\n",
       "      <td>152.0</td>\n",
       "      <td>1</td>\n",
       "      <td>&lt; 1 Year</td>\n",
       "      <td>No</td>\n",
       "      <td>1</td>\n",
       "      <td>28619.0</td>\n",
       "      <td>203</td>\n",
       "      <td>0</td>\n",
       "    </tr>\n",
       "    <tr>\n",
       "      <th>4</th>\n",
       "      <td>5</td>\n",
       "      <td>Female</td>\n",
       "      <td>29</td>\n",
       "      <td>41.0</td>\n",
       "      <td>152.0</td>\n",
       "      <td>1</td>\n",
       "      <td>&lt; 1 Year</td>\n",
       "      <td>No</td>\n",
       "      <td>1</td>\n",
       "      <td>27496.0</td>\n",
       "      <td>39</td>\n",
       "      <td>0</td>\n",
       "    </tr>\n",
       "  </tbody>\n",
       "</table>\n",
       "</div>"
      ],
      "text/plain": [
       "   id  gender  age  region_code  policy_sales_channel  driving_license  \\\n",
       "0   1    Male   44         28.0                  26.0                1   \n",
       "1   2    Male   76          3.0                  26.0                1   \n",
       "2   3    Male   47         28.0                  26.0                1   \n",
       "3   4    Male   21         11.0                 152.0                1   \n",
       "4   5  Female   29         41.0                 152.0                1   \n",
       "\n",
       "  vehicle_age vehicle_damage  previously_insured  annual_premium  vintage  \\\n",
       "0   > 2 Years            Yes                   0         40454.0      217   \n",
       "1    1-2 Year             No                   0         33536.0      183   \n",
       "2   > 2 Years            Yes                   0         38294.0       27   \n",
       "3    < 1 Year             No                   1         28619.0      203   \n",
       "4    < 1 Year             No                   1         27496.0       39   \n",
       "\n",
       "   response  \n",
       "0         1  \n",
       "1         0  \n",
       "2         1  \n",
       "3         0  \n",
       "4         0  "
      ]
     },
     "execution_count": 7,
     "metadata": {},
     "output_type": "execute_result"
    }
   ],
   "source": [
    "# Merge tables to DataFrame\n",
    "df2 = pd.merge(pd.merge(df_users, df_vehicle), df_insurance)\n",
    "df2.head()"
   ]
  },
  {
   "cell_type": "markdown",
   "metadata": {},
   "source": [
    "# 3.0. Descriptive Analysis"
   ]
  },
  {
   "cell_type": "code",
   "execution_count": 16,
   "metadata": {
    "ExecuteTime": {
     "end_time": "2021-01-11T23:01:37.363454Z",
     "start_time": "2021-01-11T23:01:37.299196Z"
    }
   },
   "outputs": [
    {
     "data": {
      "text/html": [
       "<div>\n",
       "<style scoped>\n",
       "    .dataframe tbody tr th:only-of-type {\n",
       "        vertical-align: middle;\n",
       "    }\n",
       "\n",
       "    .dataframe tbody tr th {\n",
       "        vertical-align: top;\n",
       "    }\n",
       "\n",
       "    .dataframe thead th {\n",
       "        text-align: right;\n",
       "    }\n",
       "</style>\n",
       "<table border=\"1\" class=\"dataframe\">\n",
       "  <thead>\n",
       "    <tr style=\"text-align: right;\">\n",
       "      <th></th>\n",
       "      <th>id</th>\n",
       "      <th>gender</th>\n",
       "      <th>age</th>\n",
       "      <th>region_code</th>\n",
       "      <th>policy_sales_channel</th>\n",
       "      <th>driving_license</th>\n",
       "      <th>vehicle_age</th>\n",
       "      <th>vehicle_damage</th>\n",
       "      <th>previously_insured</th>\n",
       "      <th>annual_premium</th>\n",
       "      <th>vintage</th>\n",
       "      <th>response</th>\n",
       "    </tr>\n",
       "  </thead>\n",
       "  <tbody>\n",
       "    <tr>\n",
       "      <th>0</th>\n",
       "      <td>1</td>\n",
       "      <td>Male</td>\n",
       "      <td>44</td>\n",
       "      <td>28.0</td>\n",
       "      <td>26.0</td>\n",
       "      <td>1</td>\n",
       "      <td>&gt; 2 Years</td>\n",
       "      <td>Yes</td>\n",
       "      <td>0</td>\n",
       "      <td>40454.0</td>\n",
       "      <td>217</td>\n",
       "      <td>1</td>\n",
       "    </tr>\n",
       "    <tr>\n",
       "      <th>1</th>\n",
       "      <td>2</td>\n",
       "      <td>Male</td>\n",
       "      <td>76</td>\n",
       "      <td>3.0</td>\n",
       "      <td>26.0</td>\n",
       "      <td>1</td>\n",
       "      <td>1-2 Year</td>\n",
       "      <td>No</td>\n",
       "      <td>0</td>\n",
       "      <td>33536.0</td>\n",
       "      <td>183</td>\n",
       "      <td>0</td>\n",
       "    </tr>\n",
       "    <tr>\n",
       "      <th>2</th>\n",
       "      <td>3</td>\n",
       "      <td>Male</td>\n",
       "      <td>47</td>\n",
       "      <td>28.0</td>\n",
       "      <td>26.0</td>\n",
       "      <td>1</td>\n",
       "      <td>&gt; 2 Years</td>\n",
       "      <td>Yes</td>\n",
       "      <td>0</td>\n",
       "      <td>38294.0</td>\n",
       "      <td>27</td>\n",
       "      <td>1</td>\n",
       "    </tr>\n",
       "    <tr>\n",
       "      <th>3</th>\n",
       "      <td>4</td>\n",
       "      <td>Male</td>\n",
       "      <td>21</td>\n",
       "      <td>11.0</td>\n",
       "      <td>152.0</td>\n",
       "      <td>1</td>\n",
       "      <td>&lt; 1 Year</td>\n",
       "      <td>No</td>\n",
       "      <td>1</td>\n",
       "      <td>28619.0</td>\n",
       "      <td>203</td>\n",
       "      <td>0</td>\n",
       "    </tr>\n",
       "    <tr>\n",
       "      <th>4</th>\n",
       "      <td>5</td>\n",
       "      <td>Female</td>\n",
       "      <td>29</td>\n",
       "      <td>41.0</td>\n",
       "      <td>152.0</td>\n",
       "      <td>1</td>\n",
       "      <td>&lt; 1 Year</td>\n",
       "      <td>No</td>\n",
       "      <td>1</td>\n",
       "      <td>27496.0</td>\n",
       "      <td>39</td>\n",
       "      <td>0</td>\n",
       "    </tr>\n",
       "  </tbody>\n",
       "</table>\n",
       "</div>"
      ],
      "text/plain": [
       "   id  gender  age  region_code  policy_sales_channel  driving_license  \\\n",
       "0  1   Male    44   28.0         26.0                  1                 \n",
       "1  2   Male    76   3.0          26.0                  1                 \n",
       "2  3   Male    47   28.0         26.0                  1                 \n",
       "3  4   Male    21   11.0         152.0                 1                 \n",
       "4  5   Female  29   41.0         152.0                 1                 \n",
       "\n",
       "  vehicle_age vehicle_damage  previously_insured  annual_premium  vintage  \\\n",
       "0  > 2 Years   Yes            0                   40454.0         217       \n",
       "1  1-2 Year    No             0                   33536.0         183       \n",
       "2  > 2 Years   Yes            0                   38294.0         27        \n",
       "3  < 1 Year    No             1                   28619.0         203       \n",
       "4  < 1 Year    No             1                   27496.0         39        \n",
       "\n",
       "   response  \n",
       "0  1         \n",
       "1  0         \n",
       "2  1         \n",
       "3  0         \n",
       "4  0         "
      ]
     },
     "execution_count": 16,
     "metadata": {},
     "output_type": "execute_result"
    }
   ],
   "source": [
    "df3 = df2.copy()\n",
    "df3.head()"
   ]
  },
  {
   "cell_type": "code",
   "execution_count": 9,
   "metadata": {
    "ExecuteTime": {
     "end_time": "2021-01-11T22:59:08.014185Z",
     "start_time": "2021-01-11T22:59:08.010415Z"
    }
   },
   "outputs": [
    {
     "name": "stdout",
     "output_type": "stream",
     "text": [
      "There are 381109 rows\n",
      "There are 12 columns\n"
     ]
    }
   ],
   "source": [
    "print(f'There are {df3.shape[0]} rows')\n",
    "print(f'There are {df3.shape[1]} columns')"
   ]
  },
  {
   "cell_type": "code",
   "execution_count": 22,
   "metadata": {
    "ExecuteTime": {
     "end_time": "2021-01-11T23:10:18.179864Z",
     "start_time": "2021-01-11T23:10:18.170274Z"
    },
    "hide_input": false
   },
   "outputs": [
    {
     "data": {
      "text/html": [
       "<div>\n",
       "<style scoped>\n",
       "    .dataframe tbody tr th:only-of-type {\n",
       "        vertical-align: middle;\n",
       "    }\n",
       "\n",
       "    .dataframe tbody tr th {\n",
       "        vertical-align: top;\n",
       "    }\n",
       "\n",
       "    .dataframe thead th {\n",
       "        text-align: right;\n",
       "    }\n",
       "</style>\n",
       "<table border=\"1\" class=\"dataframe\">\n",
       "  <thead>\n",
       "    <tr style=\"text-align: right;\">\n",
       "      <th></th>\n",
       "      <th>description</th>\n",
       "    </tr>\n",
       "  </thead>\n",
       "  <tbody>\n",
       "    <tr>\n",
       "      <th>id</th>\n",
       "      <td>Unique ID for the customer</td>\n",
       "    </tr>\n",
       "    <tr>\n",
       "      <th>gender</th>\n",
       "      <td>(Male or Female)</td>\n",
       "    </tr>\n",
       "    <tr>\n",
       "      <th>age</th>\n",
       "      <td>Age of the customer</td>\n",
       "    </tr>\n",
       "    <tr>\n",
       "      <th>region_code</th>\n",
       "      <td>Unique code for the region of the customer</td>\n",
       "    </tr>\n",
       "    <tr>\n",
       "      <th>policy_sales_channel</th>\n",
       "      <td>Anonymized Code for the channel of outreaching to the customer ie. Different Agents, Over Mail, Over Phone, In Person, etc.</td>\n",
       "    </tr>\n",
       "    <tr>\n",
       "      <th>driving_license</th>\n",
       "      <td>0 : Customer does not have DL, 1 : Customer already has DL</td>\n",
       "    </tr>\n",
       "    <tr>\n",
       "      <th>vehicle_age</th>\n",
       "      <td>Age of the Vehicle</td>\n",
       "    </tr>\n",
       "    <tr>\n",
       "      <th>vehicle_damage</th>\n",
       "      <td>Yes or No</td>\n",
       "    </tr>\n",
       "    <tr>\n",
       "      <th>previously_insured</th>\n",
       "      <td>1 : Customer already has Vehicle Insurance, 0 : Customer doesn't have Vehicle Insurance</td>\n",
       "    </tr>\n",
       "    <tr>\n",
       "      <th>annual_premium</th>\n",
       "      <td>The amount customer needs to pay as premium in the year</td>\n",
       "    </tr>\n",
       "    <tr>\n",
       "      <th>vintage</th>\n",
       "      <td>Number of Days, Customer has been associated with the company</td>\n",
       "    </tr>\n",
       "    <tr>\n",
       "      <th>response</th>\n",
       "      <td>1 : Customer is interested, 0 : Customer is not interested</td>\n",
       "    </tr>\n",
       "  </tbody>\n",
       "</table>\n",
       "</div>"
      ],
      "text/plain": [
       "                                                                                                                                      description\n",
       "id                    Unique ID for the customer                                                                                                 \n",
       "gender                (Male or Female)                                                                                                           \n",
       "age                   Age of the customer                                                                                                        \n",
       "region_code           Unique code for the region of the customer                                                                                 \n",
       "policy_sales_channel  Anonymized Code for the channel of outreaching to the customer ie. Different Agents, Over Mail, Over Phone, In Person, etc.\n",
       "driving_license       0 : Customer does not have DL, 1 : Customer already has DL                                                                 \n",
       "vehicle_age           Age of the Vehicle                                                                                                         \n",
       "vehicle_damage        Yes or No                                                                                                                  \n",
       "previously_insured    1 : Customer already has Vehicle Insurance, 0 : Customer doesn't have Vehicle Insurance                                    \n",
       "annual_premium        The amount customer needs to pay as premium in the year                                                                    \n",
       "vintage               Number of Days, Customer has been associated with the company                                                              \n",
       "response              1 : Customer is interested, 0 : Customer is not interested                                                                 "
      ]
     },
     "execution_count": 22,
     "metadata": {},
     "output_type": "execute_result"
    }
   ],
   "source": [
    "# Description of variables\n",
    "variables = {'id': 'Unique ID for the customer',\n",
    "             'gender': '(Male or Female)',\n",
    "             'age': 'Age of the customer',\n",
    "             'region_code': 'Unique code for the region of the customer',\n",
    "             'policy_sales_channel': 'Anonymized Code for the channel of outreaching to the customer ie. Different Agents, Over Mail, Over Phone, In Person, etc.', \n",
    "             'driving_license': '0 : Customer does not have DL, 1 : Customer already has DL',\n",
    "             'vehicle_age': 'Age of the Vehicle',\n",
    "             'vehicle_damage': \"Yes or No\",\n",
    "             'previously_insured': \"1 : Customer already has Vehicle Insurance, 0 : Customer doesn't have Vehicle Insurance\",\n",
    "             'annual_premium': 'The amount customer needs to pay as premium in the year',\n",
    "             'vintage': 'Number of Days, Customer has been associated with the company',\n",
    "             'response': '1 : Customer is interested, 0 : Customer is not interested'}\n",
    "\n",
    "\n",
    "pd.set_option('display.max_colwidth', -1);\n",
    "pd.DataFrame.from_dict(variables, orient='index', columns=['description'])"
   ]
  },
  {
   "cell_type": "markdown",
   "metadata": {
    "heading_collapsed": true
   },
   "source": [
    "## 3.1. Checking NA"
   ]
  },
  {
   "cell_type": "code",
   "execution_count": 11,
   "metadata": {
    "ExecuteTime": {
     "end_time": "2021-01-11T22:59:08.092854Z",
     "start_time": "2021-01-11T22:59:08.032224Z"
    },
    "hidden": true
   },
   "outputs": [
    {
     "data": {
      "text/plain": [
       "id                      0\n",
       "gender                  0\n",
       "age                     0\n",
       "region_code             0\n",
       "policy_sales_channel    0\n",
       "driving_license         0\n",
       "vehicle_age             0\n",
       "vehicle_damage          0\n",
       "previously_insured      0\n",
       "annual_premium          0\n",
       "vintage                 0\n",
       "response                0\n",
       "dtype: int64"
      ]
     },
     "execution_count": 11,
     "metadata": {},
     "output_type": "execute_result"
    }
   ],
   "source": [
    "df3.isna().sum()"
   ]
  },
  {
   "cell_type": "markdown",
   "metadata": {
    "hidden": true
   },
   "source": [
    "No missing values in the data set"
   ]
  },
  {
   "cell_type": "markdown",
   "metadata": {},
   "source": [
    "## 3.2. Checking Data Types"
   ]
  },
  {
   "cell_type": "code",
   "execution_count": 12,
   "metadata": {
    "ExecuteTime": {
     "end_time": "2021-01-11T22:59:08.099282Z",
     "start_time": "2021-01-11T22:59:08.094524Z"
    }
   },
   "outputs": [
    {
     "data": {
      "text/plain": [
       "id                      int64  \n",
       "gender                  object \n",
       "age                     int64  \n",
       "region_code             float64\n",
       "policy_sales_channel    float64\n",
       "driving_license         int64  \n",
       "vehicle_age             object \n",
       "vehicle_damage          object \n",
       "previously_insured      int64  \n",
       "annual_premium          float64\n",
       "vintage                 int64  \n",
       "response                int64  \n",
       "dtype: object"
      ]
     },
     "execution_count": 12,
     "metadata": {},
     "output_type": "execute_result"
    }
   ],
   "source": [
    "df3.dtypes"
   ]
  },
  {
   "cell_type": "markdown",
   "metadata": {},
   "source": [
    "## 3.3. Descriptive Statistics"
   ]
  },
  {
   "cell_type": "markdown",
   "metadata": {},
   "source": [
    "### 3.3.1. Target Attribute"
   ]
  },
  {
   "cell_type": "code",
   "execution_count": 124,
   "metadata": {
    "ExecuteTime": {
     "end_time": "2021-01-12T02:54:28.873709Z",
     "start_time": "2021-01-12T02:54:28.863776Z"
    }
   },
   "outputs": [
    {
     "data": {
      "text/plain": [
       "0    334399\n",
       "1    46710 \n",
       "Name: response, dtype: int64"
      ]
     },
     "execution_count": 124,
     "metadata": {},
     "output_type": "execute_result"
    }
   ],
   "source": [
    "df3['response'].value_counts()"
   ]
  },
  {
   "cell_type": "code",
   "execution_count": 125,
   "metadata": {
    "ExecuteTime": {
     "end_time": "2021-01-12T02:54:32.414936Z",
     "start_time": "2021-01-12T02:54:32.391727Z"
    }
   },
   "outputs": [
    {
     "data": {
      "text/plain": [
       "0    0.877437\n",
       "1    0.122563\n",
       "Name: response, dtype: float64"
      ]
     },
     "execution_count": 125,
     "metadata": {},
     "output_type": "execute_result"
    }
   ],
   "source": [
    "df3['response'].value_counts(normalize=True)"
   ]
  },
  {
   "cell_type": "markdown",
   "metadata": {},
   "source": [
    "So there are only 12.25% of the target attribute that has interest in getting a car insurance.\n",
    "\n",
    "This shows us that the data is unbalanced."
   ]
  },
  {
   "cell_type": "markdown",
   "metadata": {},
   "source": [
    "### 3.3.2 Numerical Attributes"
   ]
  },
  {
   "cell_type": "code",
   "execution_count": 111,
   "metadata": {
    "ExecuteTime": {
     "end_time": "2021-01-12T02:49:48.377893Z",
     "start_time": "2021-01-12T02:49:48.241249Z"
    }
   },
   "outputs": [
    {
     "data": {
      "text/html": [
       "<div>\n",
       "<style scoped>\n",
       "    .dataframe tbody tr th:only-of-type {\n",
       "        vertical-align: middle;\n",
       "    }\n",
       "\n",
       "    .dataframe tbody tr th {\n",
       "        vertical-align: top;\n",
       "    }\n",
       "\n",
       "    .dataframe thead th {\n",
       "        text-align: right;\n",
       "    }\n",
       "</style>\n",
       "<table border=\"1\" class=\"dataframe\">\n",
       "  <thead>\n",
       "    <tr style=\"text-align: right;\">\n",
       "      <th></th>\n",
       "      <th>count</th>\n",
       "      <th>min</th>\n",
       "      <th>25%</th>\n",
       "      <th>50%</th>\n",
       "      <th>75%</th>\n",
       "      <th>max</th>\n",
       "      <th>range</th>\n",
       "      <th>std</th>\n",
       "      <th>mean</th>\n",
       "      <th>median</th>\n",
       "      <th>skew</th>\n",
       "      <th>kurtosis</th>\n",
       "    </tr>\n",
       "  </thead>\n",
       "  <tbody>\n",
       "    <tr>\n",
       "      <th>id</th>\n",
       "      <td>381109.0</td>\n",
       "      <td>1.0</td>\n",
       "      <td>95278.0</td>\n",
       "      <td>190555.0</td>\n",
       "      <td>285832.0</td>\n",
       "      <td>381109.0</td>\n",
       "      <td>381108.0</td>\n",
       "      <td>110016.836208</td>\n",
       "      <td>190555.000000</td>\n",
       "      <td>190555.000000</td>\n",
       "      <td>-0.084852</td>\n",
       "      <td>-1.261004</td>\n",
       "    </tr>\n",
       "    <tr>\n",
       "      <th>age</th>\n",
       "      <td>381109.0</td>\n",
       "      <td>20.0</td>\n",
       "      <td>25.0</td>\n",
       "      <td>36.0</td>\n",
       "      <td>49.0</td>\n",
       "      <td>85.0</td>\n",
       "      <td>65.0</td>\n",
       "      <td>15.511611</td>\n",
       "      <td>38.822584</td>\n",
       "      <td>37.411292</td>\n",
       "      <td>3.162277</td>\n",
       "      <td>10.999999</td>\n",
       "    </tr>\n",
       "    <tr>\n",
       "      <th>region_code</th>\n",
       "      <td>381109.0</td>\n",
       "      <td>0.0</td>\n",
       "      <td>15.0</td>\n",
       "      <td>28.0</td>\n",
       "      <td>35.0</td>\n",
       "      <td>52.0</td>\n",
       "      <td>52.0</td>\n",
       "      <td>13.229888</td>\n",
       "      <td>26.388807</td>\n",
       "      <td>27.194404</td>\n",
       "      <td>3.162278</td>\n",
       "      <td>10.999999</td>\n",
       "    </tr>\n",
       "    <tr>\n",
       "      <th>policy_sales_channel</th>\n",
       "      <td>381109.0</td>\n",
       "      <td>1.0</td>\n",
       "      <td>29.0</td>\n",
       "      <td>133.0</td>\n",
       "      <td>152.0</td>\n",
       "      <td>163.0</td>\n",
       "      <td>162.0</td>\n",
       "      <td>54.203995</td>\n",
       "      <td>112.034295</td>\n",
       "      <td>122.517147</td>\n",
       "      <td>3.162276</td>\n",
       "      <td>10.999992</td>\n",
       "    </tr>\n",
       "    <tr>\n",
       "      <th>driving_license</th>\n",
       "      <td>381109.0</td>\n",
       "      <td>0.0</td>\n",
       "      <td>1.0</td>\n",
       "      <td>1.0</td>\n",
       "      <td>1.0</td>\n",
       "      <td>1.0</td>\n",
       "      <td>1.0</td>\n",
       "      <td>0.046110</td>\n",
       "      <td>0.997869</td>\n",
       "      <td>1.000000</td>\n",
       "      <td>3.162278</td>\n",
       "      <td>11.000000</td>\n",
       "    </tr>\n",
       "    <tr>\n",
       "      <th>previously_insured</th>\n",
       "      <td>381109.0</td>\n",
       "      <td>0.0</td>\n",
       "      <td>0.0</td>\n",
       "      <td>0.0</td>\n",
       "      <td>1.0</td>\n",
       "      <td>1.0</td>\n",
       "      <td>1.0</td>\n",
       "      <td>0.498251</td>\n",
       "      <td>0.458210</td>\n",
       "      <td>0.478231</td>\n",
       "      <td>3.162278</td>\n",
       "      <td>11.000000</td>\n",
       "    </tr>\n",
       "    <tr>\n",
       "      <th>annual_premium</th>\n",
       "      <td>381109.0</td>\n",
       "      <td>2630.0</td>\n",
       "      <td>24405.0</td>\n",
       "      <td>31669.0</td>\n",
       "      <td>39400.0</td>\n",
       "      <td>540165.0</td>\n",
       "      <td>537535.0</td>\n",
       "      <td>17213.155057</td>\n",
       "      <td>30564.389581</td>\n",
       "      <td>31116.694791</td>\n",
       "      <td>1.153087</td>\n",
       "      <td>-0.206512</td>\n",
       "    </tr>\n",
       "    <tr>\n",
       "      <th>vintage</th>\n",
       "      <td>381109.0</td>\n",
       "      <td>10.0</td>\n",
       "      <td>82.0</td>\n",
       "      <td>154.0</td>\n",
       "      <td>227.0</td>\n",
       "      <td>299.0</td>\n",
       "      <td>289.0</td>\n",
       "      <td>83.671304</td>\n",
       "      <td>154.347397</td>\n",
       "      <td>154.173698</td>\n",
       "      <td>3.162274</td>\n",
       "      <td>10.999978</td>\n",
       "    </tr>\n",
       "    <tr>\n",
       "      <th>response</th>\n",
       "      <td>381109.0</td>\n",
       "      <td>0.0</td>\n",
       "      <td>0.0</td>\n",
       "      <td>0.0</td>\n",
       "      <td>0.0</td>\n",
       "      <td>1.0</td>\n",
       "      <td>1.0</td>\n",
       "      <td>0.327936</td>\n",
       "      <td>0.122563</td>\n",
       "      <td>0.061282</td>\n",
       "      <td>3.162278</td>\n",
       "      <td>11.000000</td>\n",
       "    </tr>\n",
       "  </tbody>\n",
       "</table>\n",
       "</div>"
      ],
      "text/plain": [
       "                         count     min      25%       50%       75%       max  \\\n",
       "id                    381109.0  1.0     95278.0  190555.0  285832.0  381109.0   \n",
       "age                   381109.0  20.0    25.0     36.0      49.0      85.0       \n",
       "region_code           381109.0  0.0     15.0     28.0      35.0      52.0       \n",
       "policy_sales_channel  381109.0  1.0     29.0     133.0     152.0     163.0      \n",
       "driving_license       381109.0  0.0     1.0      1.0       1.0       1.0        \n",
       "previously_insured    381109.0  0.0     0.0      0.0       1.0       1.0        \n",
       "annual_premium        381109.0  2630.0  24405.0  31669.0   39400.0   540165.0   \n",
       "vintage               381109.0  10.0    82.0     154.0     227.0     299.0      \n",
       "response              381109.0  0.0     0.0      0.0       0.0       1.0        \n",
       "\n",
       "                         range            std           mean         median  \\\n",
       "id                    381108.0  110016.836208  190555.000000  190555.000000   \n",
       "age                   65.0      15.511611      38.822584      37.411292       \n",
       "region_code           52.0      13.229888      26.388807      27.194404       \n",
       "policy_sales_channel  162.0     54.203995      112.034295     122.517147      \n",
       "driving_license       1.0       0.046110       0.997869       1.000000        \n",
       "previously_insured    1.0       0.498251       0.458210       0.478231        \n",
       "annual_premium        537535.0  17213.155057   30564.389581   31116.694791    \n",
       "vintage               289.0     83.671304      154.347397     154.173698      \n",
       "response              1.0       0.327936       0.122563       0.061282        \n",
       "\n",
       "                          skew   kurtosis  \n",
       "id                   -0.084852 -1.261004   \n",
       "age                   3.162277  10.999999  \n",
       "region_code           3.162278  10.999999  \n",
       "policy_sales_channel  3.162276  10.999992  \n",
       "driving_license       3.162278  11.000000  \n",
       "previously_insured    3.162278  11.000000  \n",
       "annual_premium        1.153087 -0.206512   \n",
       "vintage               3.162274  10.999978  \n",
       "response              3.162278  11.000000  "
      ]
     },
     "execution_count": 111,
     "metadata": {},
     "output_type": "execute_result"
    }
   ],
   "source": [
    "# Calculating statistics\n",
    "descrip_stats_num = df3.describe()\n",
    "\n",
    "# median\n",
    "descrip_stats_num.loc['median'] = descrip_stats_num.apply(np.median)\n",
    "\n",
    "# range\n",
    "descrip_stats_num.loc['range'] = descrip_stats_num.loc['max'] - descrip_stats_num.loc['min']\n",
    "\n",
    "# skew\n",
    "descrip_stats_num.loc['skew'] = descrip_stats_num.skew()\n",
    "\n",
    "# kurtosis\n",
    "descrip_stats_num.loc['kurtosis'] = descrip_stats_num.kurtosis()\n",
    "\n",
    "\n",
    "descrip_stats_num.reindex(['count',\n",
    "                           'min',\n",
    "                           '25%',\n",
    "                           '50%',\n",
    "                           '75%',\n",
    "                           'max',\n",
    "                           'range',\n",
    "                           'std',\n",
    "                           'mean',\n",
    "                           'median',\n",
    "                           'skew',\n",
    "                           'kurtosis']).T"
   ]
  },
  {
   "cell_type": "markdown",
   "metadata": {},
   "source": [
    "### 3.3.3. Categorical Attributes"
   ]
  },
  {
   "cell_type": "code",
   "execution_count": 127,
   "metadata": {
    "ExecuteTime": {
     "end_time": "2021-01-12T02:58:04.479280Z",
     "start_time": "2021-01-12T02:58:04.273271Z"
    }
   },
   "outputs": [
    {
     "data": {
      "text/html": [
       "<div>\n",
       "<style scoped>\n",
       "    .dataframe tbody tr th:only-of-type {\n",
       "        vertical-align: middle;\n",
       "    }\n",
       "\n",
       "    .dataframe tbody tr th {\n",
       "        vertical-align: top;\n",
       "    }\n",
       "\n",
       "    .dataframe thead th {\n",
       "        text-align: right;\n",
       "    }\n",
       "</style>\n",
       "<table border=\"1\" class=\"dataframe\">\n",
       "  <thead>\n",
       "    <tr style=\"text-align: right;\">\n",
       "      <th></th>\n",
       "      <th>gender</th>\n",
       "      <th>vehicle_age</th>\n",
       "      <th>vehicle_damage</th>\n",
       "    </tr>\n",
       "  </thead>\n",
       "  <tbody>\n",
       "    <tr>\n",
       "      <th>count</th>\n",
       "      <td>381109</td>\n",
       "      <td>381109</td>\n",
       "      <td>381109</td>\n",
       "    </tr>\n",
       "    <tr>\n",
       "      <th>unique</th>\n",
       "      <td>2</td>\n",
       "      <td>3</td>\n",
       "      <td>2</td>\n",
       "    </tr>\n",
       "    <tr>\n",
       "      <th>top</th>\n",
       "      <td>Male</td>\n",
       "      <td>1-2 Year</td>\n",
       "      <td>Yes</td>\n",
       "    </tr>\n",
       "    <tr>\n",
       "      <th>freq</th>\n",
       "      <td>206089</td>\n",
       "      <td>200316</td>\n",
       "      <td>192413</td>\n",
       "    </tr>\n",
       "  </tbody>\n",
       "</table>\n",
       "</div>"
      ],
      "text/plain": [
       "        gender vehicle_age vehicle_damage\n",
       "count   381109  381109      381109       \n",
       "unique  2       3           2            \n",
       "top     Male    1-2 Year    Yes          \n",
       "freq    206089  200316      192413       "
      ]
     },
     "execution_count": 127,
     "metadata": {},
     "output_type": "execute_result"
    }
   ],
   "source": [
    "descrip_stats_cat = df3.select_dtypes(include='object')\n",
    "descrip_stats_cat.describe()"
   ]
  }
 ],
 "metadata": {
  "kernelspec": {
   "display_name": "Python 3",
   "language": "python",
   "name": "python3"
  },
  "language_info": {
   "codemirror_mode": {
    "name": "ipython",
    "version": 3
   },
   "file_extension": ".py",
   "mimetype": "text/x-python",
   "name": "python",
   "nbconvert_exporter": "python",
   "pygments_lexer": "ipython3",
   "version": "3.8.0"
  }
 },
 "nbformat": 4,
 "nbformat_minor": 4
}
