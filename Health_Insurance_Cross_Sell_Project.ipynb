{
 "cells": [
  {
   "cell_type": "markdown",
   "metadata": {},
   "source": [
    "# **CONTEXT**"
   ]
  },
  {
   "cell_type": "markdown",
   "metadata": {},
   "source": [
    "# IMPORTS"
   ]
  },
  {
   "cell_type": "code",
   "execution_count": 16,
   "metadata": {
    "ExecuteTime": {
     "end_time": "2021-01-06T22:00:03.339108Z",
     "start_time": "2021-01-06T22:00:03.330711Z"
    }
   },
   "outputs": [],
   "source": [
    "import postgresql as pg"
   ]
  },
  {
   "cell_type": "markdown",
   "metadata": {
    "ExecuteTime": {
     "end_time": "2021-01-06T21:39:40.868247Z",
     "start_time": "2021-01-06T21:39:39.167565Z"
    }
   },
   "source": [
    "# GETTING THE DATA FROM DATABASE"
   ]
  },
  {
   "cell_type": "code",
   "execution_count": 17,
   "metadata": {
    "ExecuteTime": {
     "end_time": "2021-01-06T22:00:05.943027Z",
     "start_time": "2021-01-06T22:00:04.600132Z"
    }
   },
   "outputs": [],
   "source": [
    "# Credentials of the Database\n",
    "host = 'comunidade-ds-postgres.c50pcakiuwi3.us-east-1.rds.amazonaws.com'\n",
    "port = 5432\n",
    "database = 'comunidadedsdb'\n",
    "username = 'member'\n",
    "password = 'cdspa'\n",
    "\n",
    "# Connecting to Database\n",
    "db = pg.open(host=host, port=port, database=database, user=username, password=password)"
   ]
  },
  {
   "cell_type": "code",
   "execution_count": 22,
   "metadata": {
    "ExecuteTime": {
     "end_time": "2021-01-06T22:02:19.989628Z",
     "start_time": "2021-01-06T22:02:19.533988Z"
    }
   },
   "outputs": [
    {
     "data": {
      "text/plain": [
       "[(1)]"
      ]
     },
     "execution_count": 22,
     "metadata": {},
     "output_type": "execute_result"
    }
   ],
   "source": []
  }
 ],
 "metadata": {
  "kernelspec": {
   "display_name": "Python 3",
   "language": "python",
   "name": "python3"
  },
  "language_info": {
   "codemirror_mode": {
    "name": "ipython",
    "version": 3
   },
   "file_extension": ".py",
   "mimetype": "text/x-python",
   "name": "python",
   "nbconvert_exporter": "python",
   "pygments_lexer": "ipython3",
   "version": "3.8.0"
  }
 },
 "nbformat": 4,
 "nbformat_minor": 4
}
