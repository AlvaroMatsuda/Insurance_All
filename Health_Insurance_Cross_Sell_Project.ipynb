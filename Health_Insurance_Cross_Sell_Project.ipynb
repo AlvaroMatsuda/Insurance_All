{
 "cells": [
  {
   "cell_type": "markdown",
   "metadata": {},
   "source": [
    "# **CONTEXT**"
   ]
  },
  {
   "cell_type": "markdown",
   "metadata": {},
   "source": [
    "**Company Name:** Insurance All\n",
    "\n",
    "**Product/Service:** Offer Health Insurance\n",
    "\n",
    "**Business Model:** An insurance policy is an arrangement by which a company undertakes to provide a guarantee of compensation for specified loss, damage, illness, or death in return for the payment of a specified premium. A premium is a sum of money that the customer needs to pay regularly to an insurance company for this guarantee.\n",
    "\n",
    "**Current Situation:** Now they want to offer a car insurance. Last year they did a research with their 380 thousand customers about their interest in getting a car insurance, and the results has been storage in a database together with others customers attributes.\n",
    "The product team selected 127 thousand new customers to participate in a marketing campaing that will be offering the new car insurance to them. The campaing will be made through phone calls by the sales team.\n",
    "\n",
    "**Problem:** The problem is that the sales team has capacity of making only 20 thousand calls on the period the campaing will be running.\n",
    "\n",
    "**Proposed Solution:** Predict the likelihood of the customer of getting the car insurance so that the sales team can prioritize which customer to call to have a better conversion rate.\n",
    "\n",
    "**Deliverables:** A report answering the following questions:\n",
    "\n",
    "   **1.** Main insights of the most relevant attributes of the customers interested in getting the car insurance;\n",
    "    \n",
    "   **2.** Percentage of interested customers the sales team will be able to call with 20.000 calls;\n",
    "    \n",
    "   **3.** Percentage of interested customers the sales team will be able to call with 40.000 calls;\n",
    "    \n",
    "   **4.** How many calls the sales team have to make to reach 80% of the interested customers."
   ]
  },
  {
   "cell_type": "markdown",
   "metadata": {},
   "source": [
    "## Business Research"
   ]
  },
  {
   "cell_type": "markdown",
   "metadata": {},
   "source": [
    "https://www.relakhs.com/insurance-companies-business-model/"
   ]
  },
  {
   "cell_type": "markdown",
   "metadata": {},
   "source": [
    "# SPRINTS"
   ]
  },
  {
   "cell_type": "markdown",
   "metadata": {},
   "source": [
    "**SPRINT 1 (05/01 - 12/01)**\n",
    "- <s>Solution Planning (Done)</s>;\n",
    "- <s>Data Collection (Done)</s>;\n",
    "    \n",
    "**SPRINT 2 (12/01 - 19/01)**\n",
    "- <s>Descriptive Analysis</s>;\n",
    "- Business Research (What is a cross-sell);\n",
    "\n",
    "**SPRINT 3 (19/01 - 26/01)**\n",
    "- EDA;\n",
    "- Insight Report;\n",
    "\n",
    "**SPRINT 4 (26/01 - 02/02)**\n",
    "- Data Preparation;\n",
    "\n",
    "**SPRINT 5 (02/02 - 09/02)**\n",
    "- Implementation of Machine Learning Models;\n",
    "\n",
    "**SPRINT 6 (09/02 - 16/02)**\n",
    "- Business Metrics (KPI);\n",
    "- Translate to business metrics;\n",
    "\n",
    "**SPRINT 7 (16/02 - 23/02)**\n",
    "- Deploy of the Model in Production;\n",
    "\n",
    "**SPRINT 8 (23/02 - 02/03)**\n",
    "- Access of the data in the Model in Production;\n",
    "\n",
    "**SPRINT 9 (02/03 - 09/03)**\n",
    "- Presentation to Business Team;\n",
    "\n",
    "**SPRINT 10 (09/03 - 16/03)**\n",
    "- Write an article;\n",
    "- What I Learned;"
   ]
  },
  {
   "cell_type": "markdown",
   "metadata": {},
   "source": [
    "# IMPORTS"
   ]
  },
  {
   "cell_type": "code",
   "execution_count": 69,
   "metadata": {
    "ExecuteTime": {
     "end_time": "2021-01-13T22:59:59.647841Z",
     "start_time": "2021-01-13T22:59:59.639375Z"
    }
   },
   "outputs": [],
   "source": [
    "# Data Manipulation\n",
    "import pandas as pd\n",
    "import numpy as np\n",
    "import statistics as st\n",
    "\n",
    "# General Utilities\n",
    "import pickle\n",
    "import warnings\n",
    "warnings.filterwarnings('ignore')\n",
    "\n",
    "# Database Library\n",
    "import psycopg2\n"
   ]
  },
  {
   "cell_type": "markdown",
   "metadata": {},
   "source": [
    "# HELPER FUNCTIONS"
   ]
  },
  {
   "cell_type": "code",
   "execution_count": null,
   "metadata": {},
   "outputs": [],
   "source": []
  },
  {
   "cell_type": "markdown",
   "metadata": {
    "heading_collapsed": true
   },
   "source": [
    "# 1.0. SOLUTION PLANNING"
   ]
  },
  {
   "cell_type": "markdown",
   "metadata": {
    "hidden": true
   },
   "source": [
    "- Build a Machine Learning model to calculate the likelihood of customers getting the car insurance. For that we will do the following steps:\n",
    "    - Data Collecting: from the Database;\n",
    "    - Descriptive analysis:  see how the data is. (To see how much work needs to be done to processing data.)\n",
    "    - Exploratory Data Analisys:  see the behavior of the data (features).\n",
    "    - Data Preparation: Preparating data to fit into machine learning model;\n",
    "    - Implementation of machine learning models;\n",
    "    - Interpretating the metrics of the model;\n",
    "    - Translating the model metrics to business metrics;\n",
    "    - Deploy of the model in production;\n",
    " "
   ]
  },
  {
   "cell_type": "markdown",
   "metadata": {
    "hidden": true
   },
   "source": [
    "## 1.1. Main insights of the most relevant attributes of the customers interested in getting the car insurance;"
   ]
  },
  {
   "cell_type": "markdown",
   "metadata": {
    "hidden": true
   },
   "source": [
    "- Compare the data between those that are interested and those that are not interested through EDA;\n",
    "- See if there are any insight. (different behavior in datas)"
   ]
  },
  {
   "cell_type": "markdown",
   "metadata": {
    "hidden": true
   },
   "source": [
    "## 1.2. Percentage of interested customers the sales team will be able to call with 20.000 calls;"
   ]
  },
  {
   "cell_type": "markdown",
   "metadata": {
    "hidden": true
   },
   "source": [
    "- Use Machine Learning to predict the total number of customers that are interested in getting a car insurence from those 127 thousand customers that will be participating in the marketing campaing;\n",
    "- From that, we can calculate the percentage of customers the sales team will be able to reach with 20.000 calls."
   ]
  },
  {
   "cell_type": "markdown",
   "metadata": {
    "hidden": true
   },
   "source": [
    "## 1.3. Percentage of interested custumers the sales team will be able to call with 40.000 calls;"
   ]
  },
  {
   "cell_type": "markdown",
   "metadata": {
    "hidden": true
   },
   "source": [
    "- Same as 1.2."
   ]
  },
  {
   "cell_type": "markdown",
   "metadata": {
    "hidden": true
   },
   "source": [
    "## 1.4. How many calls the sales team have to make to reach 80% of the interested custumers."
   ]
  },
  {
   "cell_type": "markdown",
   "metadata": {
    "hidden": true
   },
   "source": [
    "- After calculating the total number of customers interested in getting car insurance, we can calculate how many calls would be necessary to reach 80% of those customers."
   ]
  },
  {
   "cell_type": "markdown",
   "metadata": {
    "ExecuteTime": {
     "end_time": "2021-01-06T21:39:40.868247Z",
     "start_time": "2021-01-06T21:39:39.167565Z"
    },
    "heading_collapsed": true
   },
   "source": [
    "# 2.0. GETTING THE DATA FROM DATABASE"
   ]
  },
  {
   "cell_type": "code",
   "execution_count": 56,
   "metadata": {
    "ExecuteTime": {
     "end_time": "2021-01-13T22:42:05.388633Z",
     "start_time": "2021-01-13T22:42:04.148707Z"
    },
    "hidden": true
   },
   "outputs": [],
   "source": [
    "# Credentials of the Database\n",
    "host = 'comunidade-ds-postgres.c50pcakiuwi3.us-east-1.rds.amazonaws.com'\n",
    "port = 5432\n",
    "database = 'comunidadedsdb'\n",
    "username = 'member'\n",
    "password = 'cdspa'\n",
    "\n",
    "# Connecting to Database\n",
    "conn = psycopg2.connect(host=host, port=port, database=database, user=username, password=password)\n",
    "\n",
    "# Cursor\n",
    "cursor = conn.cursor()"
   ]
  },
  {
   "cell_type": "code",
   "execution_count": 32,
   "metadata": {
    "ExecuteTime": {
     "end_time": "2021-01-13T22:16:42.805866Z",
     "start_time": "2021-01-13T22:16:42.421789Z"
    },
    "hidden": true
   },
   "outputs": [
    {
     "name": "stdout",
     "output_type": "stream",
     "text": [
      "[('pg_toast',), ('pg_temp_1',), ('pg_toast_temp_1',), ('pg_catalog',), ('information_schema',), ('public',), ('pa004',)]\n"
     ]
    }
   ],
   "source": [
    "# Listing Schemas\n",
    "cursor.execute(\"SELECT nspname FROM pg_catalog.pg_namespace;\")\n",
    "print (cursor.fetchall())"
   ]
  },
  {
   "cell_type": "code",
   "execution_count": 38,
   "metadata": {
    "ExecuteTime": {
     "end_time": "2021-01-13T22:19:07.791118Z",
     "start_time": "2021-01-13T22:19:07.335462Z"
    },
    "hidden": true
   },
   "outputs": [
    {
     "name": "stdout",
     "output_type": "stream",
     "text": [
      "[('users',), ('vehicle',), ('insurance',)]\n"
     ]
    }
   ],
   "source": [
    "# Showing tables from Database\n",
    "cursor.execute(\"SELECT tablename FROM pg_tables WHERE schemaname='pa004';\")\n",
    "print (cursor.fetchall())"
   ]
  },
  {
   "cell_type": "code",
   "execution_count": 57,
   "metadata": {
    "ExecuteTime": {
     "end_time": "2021-01-13T22:42:59.113750Z",
     "start_time": "2021-01-13T22:42:33.161006Z"
    },
    "hidden": true
   },
   "outputs": [],
   "source": [
    "# query all data from tables (users, vehicle, insurance)\n",
    "query_tables = \"\"\"SELECT * FROM pa004.users u LEFT JOIN pa004.vehicle v ON (u.id = v.id)\n",
    "                                              LEFT JOIN pa004.insurance i ON (u.id = i.id)\"\"\"\n",
    "\n",
    "df_raw_tables = pd.read_sql(query_tables, conn)\n",
    "\n",
    "# closing cursor and connection\n",
    "cursor.close()\n",
    "conn.close()"
   ]
  },
  {
   "cell_type": "code",
   "execution_count": 61,
   "metadata": {
    "ExecuteTime": {
     "end_time": "2021-01-13T22:43:35.968216Z",
     "start_time": "2021-01-13T22:43:35.945035Z"
    },
    "hidden": true
   },
   "outputs": [
    {
     "data": {
      "text/html": [
       "<div>\n",
       "<style scoped>\n",
       "    .dataframe tbody tr th:only-of-type {\n",
       "        vertical-align: middle;\n",
       "    }\n",
       "\n",
       "    .dataframe tbody tr th {\n",
       "        vertical-align: top;\n",
       "    }\n",
       "\n",
       "    .dataframe thead th {\n",
       "        text-align: right;\n",
       "    }\n",
       "</style>\n",
       "<table border=\"1\" class=\"dataframe\">\n",
       "  <thead>\n",
       "    <tr style=\"text-align: right;\">\n",
       "      <th></th>\n",
       "      <th>id</th>\n",
       "      <th>gender</th>\n",
       "      <th>age</th>\n",
       "      <th>region_code</th>\n",
       "      <th>policy_sales_channel</th>\n",
       "      <th>id</th>\n",
       "      <th>driving_license</th>\n",
       "      <th>vehicle_age</th>\n",
       "      <th>vehicle_damage</th>\n",
       "      <th>id</th>\n",
       "      <th>previously_insured</th>\n",
       "      <th>annual_premium</th>\n",
       "      <th>vintage</th>\n",
       "      <th>response</th>\n",
       "    </tr>\n",
       "  </thead>\n",
       "  <tbody>\n",
       "    <tr>\n",
       "      <th>0</th>\n",
       "      <td>7</td>\n",
       "      <td>Male</td>\n",
       "      <td>23</td>\n",
       "      <td>11.0</td>\n",
       "      <td>152.0</td>\n",
       "      <td>7</td>\n",
       "      <td>1</td>\n",
       "      <td>&lt; 1 Year</td>\n",
       "      <td>Yes</td>\n",
       "      <td>7</td>\n",
       "      <td>0</td>\n",
       "      <td>23367.0</td>\n",
       "      <td>249</td>\n",
       "      <td>0</td>\n",
       "    </tr>\n",
       "    <tr>\n",
       "      <th>1</th>\n",
       "      <td>13</td>\n",
       "      <td>Female</td>\n",
       "      <td>41</td>\n",
       "      <td>15.0</td>\n",
       "      <td>14.0</td>\n",
       "      <td>13</td>\n",
       "      <td>1</td>\n",
       "      <td>1-2 Year</td>\n",
       "      <td>No</td>\n",
       "      <td>13</td>\n",
       "      <td>1</td>\n",
       "      <td>31409.0</td>\n",
       "      <td>221</td>\n",
       "      <td>0</td>\n",
       "    </tr>\n",
       "    <tr>\n",
       "      <th>2</th>\n",
       "      <td>18</td>\n",
       "      <td>Female</td>\n",
       "      <td>25</td>\n",
       "      <td>35.0</td>\n",
       "      <td>152.0</td>\n",
       "      <td>18</td>\n",
       "      <td>1</td>\n",
       "      <td>&lt; 1 Year</td>\n",
       "      <td>No</td>\n",
       "      <td>18</td>\n",
       "      <td>1</td>\n",
       "      <td>46622.0</td>\n",
       "      <td>299</td>\n",
       "      <td>0</td>\n",
       "    </tr>\n",
       "    <tr>\n",
       "      <th>3</th>\n",
       "      <td>31</td>\n",
       "      <td>Female</td>\n",
       "      <td>26</td>\n",
       "      <td>8.0</td>\n",
       "      <td>160.0</td>\n",
       "      <td>31</td>\n",
       "      <td>1</td>\n",
       "      <td>&lt; 1 Year</td>\n",
       "      <td>No</td>\n",
       "      <td>31</td>\n",
       "      <td>0</td>\n",
       "      <td>2630.0</td>\n",
       "      <td>136</td>\n",
       "      <td>0</td>\n",
       "    </tr>\n",
       "    <tr>\n",
       "      <th>4</th>\n",
       "      <td>39</td>\n",
       "      <td>Male</td>\n",
       "      <td>45</td>\n",
       "      <td>8.0</td>\n",
       "      <td>124.0</td>\n",
       "      <td>39</td>\n",
       "      <td>1</td>\n",
       "      <td>1-2 Year</td>\n",
       "      <td>Yes</td>\n",
       "      <td>39</td>\n",
       "      <td>0</td>\n",
       "      <td>42297.0</td>\n",
       "      <td>264</td>\n",
       "      <td>0</td>\n",
       "    </tr>\n",
       "  </tbody>\n",
       "</table>\n",
       "</div>"
      ],
      "text/plain": [
       "   id  gender  age  region_code  policy_sales_channel  id  driving_license  \\\n",
       "0  7   Male    23   11.0         152.0                 7   1                 \n",
       "1  13  Female  41   15.0         14.0                  13  1                 \n",
       "2  18  Female  25   35.0         152.0                 18  1                 \n",
       "3  31  Female  26   8.0          160.0                 31  1                 \n",
       "4  39  Male    45   8.0          124.0                 39  1                 \n",
       "\n",
       "  vehicle_age vehicle_damage  id  previously_insured  annual_premium  vintage  \\\n",
       "0  < 1 Year    Yes            7   0                   23367.0         249       \n",
       "1  1-2 Year    No             13  1                   31409.0         221       \n",
       "2  < 1 Year    No             18  1                   46622.0         299       \n",
       "3  < 1 Year    No             31  0                   2630.0          136       \n",
       "4  1-2 Year    Yes            39  0                   42297.0         264       \n",
       "\n",
       "   response  \n",
       "0  0         \n",
       "1  0         \n",
       "2  0         \n",
       "3  0         \n",
       "4  0         "
      ]
     },
     "execution_count": 61,
     "metadata": {},
     "output_type": "execute_result"
    }
   ],
   "source": [
    "# Checking the dataframe\n",
    "df_raw_tables.head()"
   ]
  },
  {
   "cell_type": "code",
   "execution_count": 66,
   "metadata": {
    "ExecuteTime": {
     "end_time": "2021-01-13T22:54:46.326341Z",
     "start_time": "2021-01-13T22:54:46.283907Z"
    },
    "hidden": true
   },
   "outputs": [
    {
     "data": {
      "text/html": [
       "<div>\n",
       "<style scoped>\n",
       "    .dataframe tbody tr th:only-of-type {\n",
       "        vertical-align: middle;\n",
       "    }\n",
       "\n",
       "    .dataframe tbody tr th {\n",
       "        vertical-align: top;\n",
       "    }\n",
       "\n",
       "    .dataframe thead th {\n",
       "        text-align: right;\n",
       "    }\n",
       "</style>\n",
       "<table border=\"1\" class=\"dataframe\">\n",
       "  <thead>\n",
       "    <tr style=\"text-align: right;\">\n",
       "      <th></th>\n",
       "      <th>id</th>\n",
       "      <th>gender</th>\n",
       "      <th>age</th>\n",
       "      <th>region_code</th>\n",
       "      <th>policy_sales_channel</th>\n",
       "      <th>driving_license</th>\n",
       "      <th>vehicle_age</th>\n",
       "      <th>vehicle_damage</th>\n",
       "      <th>previously_insured</th>\n",
       "      <th>annual_premium</th>\n",
       "      <th>vintage</th>\n",
       "      <th>response</th>\n",
       "    </tr>\n",
       "  </thead>\n",
       "  <tbody>\n",
       "    <tr>\n",
       "      <th>0</th>\n",
       "      <td>7</td>\n",
       "      <td>Male</td>\n",
       "      <td>23</td>\n",
       "      <td>11.0</td>\n",
       "      <td>152.0</td>\n",
       "      <td>1</td>\n",
       "      <td>&lt; 1 Year</td>\n",
       "      <td>Yes</td>\n",
       "      <td>0</td>\n",
       "      <td>23367.0</td>\n",
       "      <td>249</td>\n",
       "      <td>0</td>\n",
       "    </tr>\n",
       "    <tr>\n",
       "      <th>1</th>\n",
       "      <td>13</td>\n",
       "      <td>Female</td>\n",
       "      <td>41</td>\n",
       "      <td>15.0</td>\n",
       "      <td>14.0</td>\n",
       "      <td>1</td>\n",
       "      <td>1-2 Year</td>\n",
       "      <td>No</td>\n",
       "      <td>1</td>\n",
       "      <td>31409.0</td>\n",
       "      <td>221</td>\n",
       "      <td>0</td>\n",
       "    </tr>\n",
       "    <tr>\n",
       "      <th>2</th>\n",
       "      <td>18</td>\n",
       "      <td>Female</td>\n",
       "      <td>25</td>\n",
       "      <td>35.0</td>\n",
       "      <td>152.0</td>\n",
       "      <td>1</td>\n",
       "      <td>&lt; 1 Year</td>\n",
       "      <td>No</td>\n",
       "      <td>1</td>\n",
       "      <td>46622.0</td>\n",
       "      <td>299</td>\n",
       "      <td>0</td>\n",
       "    </tr>\n",
       "    <tr>\n",
       "      <th>3</th>\n",
       "      <td>31</td>\n",
       "      <td>Female</td>\n",
       "      <td>26</td>\n",
       "      <td>8.0</td>\n",
       "      <td>160.0</td>\n",
       "      <td>1</td>\n",
       "      <td>&lt; 1 Year</td>\n",
       "      <td>No</td>\n",
       "      <td>0</td>\n",
       "      <td>2630.0</td>\n",
       "      <td>136</td>\n",
       "      <td>0</td>\n",
       "    </tr>\n",
       "    <tr>\n",
       "      <th>4</th>\n",
       "      <td>39</td>\n",
       "      <td>Male</td>\n",
       "      <td>45</td>\n",
       "      <td>8.0</td>\n",
       "      <td>124.0</td>\n",
       "      <td>1</td>\n",
       "      <td>1-2 Year</td>\n",
       "      <td>Yes</td>\n",
       "      <td>0</td>\n",
       "      <td>42297.0</td>\n",
       "      <td>264</td>\n",
       "      <td>0</td>\n",
       "    </tr>\n",
       "  </tbody>\n",
       "</table>\n",
       "</div>"
      ],
      "text/plain": [
       "   id  gender  age  region_code  policy_sales_channel  driving_license  \\\n",
       "0  7   Male    23   11.0         152.0                 1                 \n",
       "1  13  Female  41   15.0         14.0                  1                 \n",
       "2  18  Female  25   35.0         152.0                 1                 \n",
       "3  31  Female  26   8.0          160.0                 1                 \n",
       "4  39  Male    45   8.0          124.0                 1                 \n",
       "\n",
       "  vehicle_age vehicle_damage  previously_insured  annual_premium  vintage  \\\n",
       "0  < 1 Year    Yes            0                   23367.0         249       \n",
       "1  1-2 Year    No             1                   31409.0         221       \n",
       "2  < 1 Year    No             1                   46622.0         299       \n",
       "3  < 1 Year    No             0                   2630.0          136       \n",
       "4  1-2 Year    Yes            0                   42297.0         264       \n",
       "\n",
       "   response  \n",
       "0  0         \n",
       "1  0         \n",
       "2  0         \n",
       "3  0         \n",
       "4  0         "
      ]
     },
     "execution_count": 66,
     "metadata": {},
     "output_type": "execute_result"
    }
   ],
   "source": [
    "# Removing duplicated id columns\n",
    "df_raw_tables = df_raw_tables.loc[:,~df_raw_tables.columns.duplicated()]\n",
    "df_raw_tables.head()"
   ]
  },
  {
   "cell_type": "markdown",
   "metadata": {},
   "source": [
    "# 3.0. DESCRIPTIVE ANALYSIS"
   ]
  },
  {
   "cell_type": "code",
   "execution_count": 108,
   "metadata": {
    "ExecuteTime": {
     "end_time": "2021-01-13T23:28:24.376942Z",
     "start_time": "2021-01-13T23:28:24.352211Z"
    }
   },
   "outputs": [],
   "source": [
    "df3 = df_raw_tables.copy()"
   ]
  },
  {
   "cell_type": "code",
   "execution_count": 109,
   "metadata": {
    "ExecuteTime": {
     "end_time": "2021-01-13T23:28:27.972874Z",
     "start_time": "2021-01-13T23:28:27.969511Z"
    },
    "hide_input": false
   },
   "outputs": [
    {
     "name": "stdout",
     "output_type": "stream",
     "text": [
      "There are 381109 rows\n",
      "There are 12 columns\n"
     ]
    }
   ],
   "source": [
    "print(f'There are {df3.shape[0]} rows')\n",
    "print(f'There are {df3.shape[1]} columns')"
   ]
  },
  {
   "cell_type": "code",
   "execution_count": 107,
   "metadata": {
    "ExecuteTime": {
     "end_time": "2021-01-13T23:26:08.859239Z",
     "start_time": "2021-01-13T23:26:08.847352Z"
    },
    "hide_input": false
   },
   "outputs": [
    {
     "data": {
      "text/html": [
       "<div>\n",
       "<style scoped>\n",
       "    .dataframe tbody tr th:only-of-type {\n",
       "        vertical-align: middle;\n",
       "    }\n",
       "\n",
       "    .dataframe tbody tr th {\n",
       "        vertical-align: top;\n",
       "    }\n",
       "\n",
       "    .dataframe thead th {\n",
       "        text-align: right;\n",
       "    }\n",
       "</style>\n",
       "<table border=\"1\" class=\"dataframe\">\n",
       "  <thead>\n",
       "    <tr style=\"text-align: right;\">\n",
       "      <th></th>\n",
       "      <th>description</th>\n",
       "    </tr>\n",
       "  </thead>\n",
       "  <tbody>\n",
       "    <tr>\n",
       "      <th>id</th>\n",
       "      <td>Unique ID for the customer</td>\n",
       "    </tr>\n",
       "    <tr>\n",
       "      <th>gender</th>\n",
       "      <td>(Male or Female)</td>\n",
       "    </tr>\n",
       "    <tr>\n",
       "      <th>age</th>\n",
       "      <td>Age of the customer</td>\n",
       "    </tr>\n",
       "    <tr>\n",
       "      <th>region_code</th>\n",
       "      <td>Unique code for the region of the customer</td>\n",
       "    </tr>\n",
       "    <tr>\n",
       "      <th>policy_sales_channel</th>\n",
       "      <td>Anonymized Code for the channel of outreaching to the customer ie. Different Agents, Over Mail, Over Phone, In Person, etc.</td>\n",
       "    </tr>\n",
       "    <tr>\n",
       "      <th>driving_license</th>\n",
       "      <td>0 : Customer does not have DL, 1 : Customer already has DL</td>\n",
       "    </tr>\n",
       "    <tr>\n",
       "      <th>vehicle_age</th>\n",
       "      <td>&lt; 1 Year, 1-2 Year, &gt; 2 Years</td>\n",
       "    </tr>\n",
       "    <tr>\n",
       "      <th>vehicle_damage</th>\n",
       "      <td>Yes or No</td>\n",
       "    </tr>\n",
       "    <tr>\n",
       "      <th>previously_insured</th>\n",
       "      <td>1 : Customer already has Vehicle Insurance, 0 : Customer doesn't have Vehicle Insurance</td>\n",
       "    </tr>\n",
       "    <tr>\n",
       "      <th>annual_premium</th>\n",
       "      <td>The amount customer needs to pay as premium in the year</td>\n",
       "    </tr>\n",
       "    <tr>\n",
       "      <th>vintage</th>\n",
       "      <td>Number of Days, Customer has been associated with the company</td>\n",
       "    </tr>\n",
       "    <tr>\n",
       "      <th>response</th>\n",
       "      <td>1 : Customer is interested, 0 : Customer is not interested</td>\n",
       "    </tr>\n",
       "  </tbody>\n",
       "</table>\n",
       "</div>"
      ],
      "text/plain": [
       "                                                                                                                                      description\n",
       "id                    Unique ID for the customer                                                                                                 \n",
       "gender                (Male or Female)                                                                                                           \n",
       "age                   Age of the customer                                                                                                        \n",
       "region_code           Unique code for the region of the customer                                                                                 \n",
       "policy_sales_channel  Anonymized Code for the channel of outreaching to the customer ie. Different Agents, Over Mail, Over Phone, In Person, etc.\n",
       "driving_license       0 : Customer does not have DL, 1 : Customer already has DL                                                                 \n",
       "vehicle_age           < 1 Year, 1-2 Year, > 2 Years                                                                                              \n",
       "vehicle_damage        Yes or No                                                                                                                  \n",
       "previously_insured    1 : Customer already has Vehicle Insurance, 0 : Customer doesn't have Vehicle Insurance                                    \n",
       "annual_premium        The amount customer needs to pay as premium in the year                                                                    \n",
       "vintage               Number of Days, Customer has been associated with the company                                                              \n",
       "response              1 : Customer is interested, 0 : Customer is not interested                                                                 "
      ]
     },
     "execution_count": 107,
     "metadata": {},
     "output_type": "execute_result"
    }
   ],
   "source": [
    "# Description of variables\n",
    "variables = {'id': 'Unique ID for the customer',\n",
    "             'gender': '(Male or Female)',\n",
    "             'age': 'Age of the customer',\n",
    "             'region_code': 'Unique code for the region of the customer',\n",
    "             'policy_sales_channel': 'Anonymized Code for the channel of outreaching to the customer ie. Different Agents, Over Mail, Over Phone, In Person, etc.', \n",
    "             'driving_license': '0 : Customer does not have DL, 1 : Customer already has DL',\n",
    "             'vehicle_age': '< 1 Year, 1-2 Year, > 2 Years',\n",
    "             'vehicle_damage': \"Yes or No\",\n",
    "             'previously_insured': \"1 : Customer already has Vehicle Insurance, 0 : Customer doesn't have Vehicle Insurance\",\n",
    "             'annual_premium': 'The amount customer needs to pay as premium in the year',\n",
    "             'vintage': 'Number of Days, Customer has been associated with the company',\n",
    "             'response': '1 : Customer is interested, 0 : Customer is not interested'}\n",
    "\n",
    "\n",
    "pd.set_option('display.max_colwidth', -1);\n",
    "pd.DataFrame.from_dict(variables, orient='index', columns=['description'])"
   ]
  },
  {
   "cell_type": "markdown",
   "metadata": {
    "heading_collapsed": true
   },
   "source": [
    "## 3.1. Checking NA"
   ]
  },
  {
   "cell_type": "code",
   "execution_count": 11,
   "metadata": {
    "ExecuteTime": {
     "end_time": "2021-01-13T22:06:01.391193Z",
     "start_time": "2021-01-13T22:06:01.332918Z"
    },
    "hidden": true
   },
   "outputs": [
    {
     "data": {
      "text/plain": [
       "id                      0\n",
       "gender                  0\n",
       "age                     0\n",
       "region_code             0\n",
       "policy_sales_channel    0\n",
       "driving_license         0\n",
       "vehicle_age             0\n",
       "vehicle_damage          0\n",
       "previously_insured      0\n",
       "annual_premium          0\n",
       "vintage                 0\n",
       "response                0\n",
       "dtype: int64"
      ]
     },
     "execution_count": 11,
     "metadata": {},
     "output_type": "execute_result"
    }
   ],
   "source": [
    "df3.isna().sum()"
   ]
  },
  {
   "cell_type": "markdown",
   "metadata": {
    "hidden": true
   },
   "source": [
    "No missing values in the data set"
   ]
  },
  {
   "cell_type": "markdown",
   "metadata": {
    "heading_collapsed": true
   },
   "source": [
    "## 3.2. Checking Data Types"
   ]
  },
  {
   "cell_type": "code",
   "execution_count": 12,
   "metadata": {
    "ExecuteTime": {
     "end_time": "2021-01-13T22:06:01.396561Z",
     "start_time": "2021-01-13T22:06:01.392457Z"
    },
    "hidden": true
   },
   "outputs": [
    {
     "data": {
      "text/plain": [
       "id                      int64  \n",
       "gender                  object \n",
       "age                     int64  \n",
       "region_code             float64\n",
       "policy_sales_channel    float64\n",
       "driving_license         int64  \n",
       "vehicle_age             object \n",
       "vehicle_damage          object \n",
       "previously_insured      int64  \n",
       "annual_premium          float64\n",
       "vintage                 int64  \n",
       "response                int64  \n",
       "dtype: object"
      ]
     },
     "execution_count": 12,
     "metadata": {},
     "output_type": "execute_result"
    }
   ],
   "source": [
    "df3.dtypes"
   ]
  },
  {
   "cell_type": "markdown",
   "metadata": {
    "hidden": true
   },
   "source": [
    "No need to change data types"
   ]
  },
  {
   "cell_type": "markdown",
   "metadata": {},
   "source": [
    "## 3.3. Descriptive Statistics"
   ]
  },
  {
   "cell_type": "markdown",
   "metadata": {},
   "source": [
    "### 3.3.1. Target Attribute"
   ]
  },
  {
   "cell_type": "code",
   "execution_count": 92,
   "metadata": {
    "ExecuteTime": {
     "end_time": "2021-01-13T23:09:20.770137Z",
     "start_time": "2021-01-13T23:09:20.760134Z"
    }
   },
   "outputs": [
    {
     "data": {
      "text/plain": [
       "0    334399\n",
       "1    46710 \n",
       "Name: response, dtype: int64"
      ]
     },
     "execution_count": 92,
     "metadata": {},
     "output_type": "execute_result"
    }
   ],
   "source": [
    "df3['response'].value_counts()"
   ]
  },
  {
   "cell_type": "code",
   "execution_count": 93,
   "metadata": {
    "ExecuteTime": {
     "end_time": "2021-01-13T23:09:20.790034Z",
     "start_time": "2021-01-13T23:09:20.771528Z"
    }
   },
   "outputs": [
    {
     "data": {
      "text/plain": [
       "0    0.877437\n",
       "1    0.122563\n",
       "Name: response, dtype: float64"
      ]
     },
     "execution_count": 93,
     "metadata": {},
     "output_type": "execute_result"
    }
   ],
   "source": [
    "df3['response'].value_counts(normalize=True)"
   ]
  },
  {
   "cell_type": "markdown",
   "metadata": {},
   "source": [
    "So there are only 12.25% of the target attribute that has interest in getting a car insurance.\n",
    "\n",
    "This shows us that the data is unbalanced."
   ]
  },
  {
   "cell_type": "markdown",
   "metadata": {},
   "source": [
    "### 3.3.2 Numerical Attributes"
   ]
  },
  {
   "cell_type": "code",
   "execution_count": 105,
   "metadata": {
    "ExecuteTime": {
     "end_time": "2021-01-13T23:20:17.458565Z",
     "start_time": "2021-01-13T23:20:16.593155Z"
    }
   },
   "outputs": [
    {
     "data": {
      "text/html": [
       "<div>\n",
       "<style scoped>\n",
       "    .dataframe tbody tr th:only-of-type {\n",
       "        vertical-align: middle;\n",
       "    }\n",
       "\n",
       "    .dataframe tbody tr th {\n",
       "        vertical-align: top;\n",
       "    }\n",
       "\n",
       "    .dataframe thead th {\n",
       "        text-align: right;\n",
       "    }\n",
       "</style>\n",
       "<table border=\"1\" class=\"dataframe\">\n",
       "  <thead>\n",
       "    <tr style=\"text-align: right;\">\n",
       "      <th></th>\n",
       "      <th>count</th>\n",
       "      <th>min</th>\n",
       "      <th>25%</th>\n",
       "      <th>50%</th>\n",
       "      <th>75%</th>\n",
       "      <th>max</th>\n",
       "      <th>range</th>\n",
       "      <th>std</th>\n",
       "      <th>mean</th>\n",
       "      <th>mode</th>\n",
       "      <th>skew</th>\n",
       "      <th>kurtosis</th>\n",
       "    </tr>\n",
       "  </thead>\n",
       "  <tbody>\n",
       "    <tr>\n",
       "      <th>id</th>\n",
       "      <td>381109.0</td>\n",
       "      <td>1.0</td>\n",
       "      <td>95278.0</td>\n",
       "      <td>190555.0</td>\n",
       "      <td>285832.0</td>\n",
       "      <td>381109.0</td>\n",
       "      <td>381108.0</td>\n",
       "      <td>110016.836208</td>\n",
       "      <td>190555.000000</td>\n",
       "      <td>7.0</td>\n",
       "      <td>-8.071174e-18</td>\n",
       "      <td>-1.200000</td>\n",
       "    </tr>\n",
       "    <tr>\n",
       "      <th>age</th>\n",
       "      <td>381109.0</td>\n",
       "      <td>20.0</td>\n",
       "      <td>25.0</td>\n",
       "      <td>36.0</td>\n",
       "      <td>49.0</td>\n",
       "      <td>85.0</td>\n",
       "      <td>65.0</td>\n",
       "      <td>15.511611</td>\n",
       "      <td>38.822584</td>\n",
       "      <td>24.0</td>\n",
       "      <td>6.725390e-01</td>\n",
       "      <td>-0.565655</td>\n",
       "    </tr>\n",
       "    <tr>\n",
       "      <th>region_code</th>\n",
       "      <td>381109.0</td>\n",
       "      <td>0.0</td>\n",
       "      <td>15.0</td>\n",
       "      <td>28.0</td>\n",
       "      <td>35.0</td>\n",
       "      <td>52.0</td>\n",
       "      <td>52.0</td>\n",
       "      <td>13.229888</td>\n",
       "      <td>26.388807</td>\n",
       "      <td>28.0</td>\n",
       "      <td>-1.152664e-01</td>\n",
       "      <td>-0.867857</td>\n",
       "    </tr>\n",
       "    <tr>\n",
       "      <th>policy_sales_channel</th>\n",
       "      <td>381109.0</td>\n",
       "      <td>1.0</td>\n",
       "      <td>29.0</td>\n",
       "      <td>133.0</td>\n",
       "      <td>152.0</td>\n",
       "      <td>163.0</td>\n",
       "      <td>162.0</td>\n",
       "      <td>54.203995</td>\n",
       "      <td>112.034295</td>\n",
       "      <td>152.0</td>\n",
       "      <td>-9.000081e-01</td>\n",
       "      <td>-0.970810</td>\n",
       "    </tr>\n",
       "    <tr>\n",
       "      <th>driving_license</th>\n",
       "      <td>381109.0</td>\n",
       "      <td>0.0</td>\n",
       "      <td>1.0</td>\n",
       "      <td>1.0</td>\n",
       "      <td>1.0</td>\n",
       "      <td>1.0</td>\n",
       "      <td>1.0</td>\n",
       "      <td>0.046110</td>\n",
       "      <td>0.997869</td>\n",
       "      <td>1.0</td>\n",
       "      <td>-2.159518e+01</td>\n",
       "      <td>464.354302</td>\n",
       "    </tr>\n",
       "    <tr>\n",
       "      <th>previously_insured</th>\n",
       "      <td>381109.0</td>\n",
       "      <td>0.0</td>\n",
       "      <td>0.0</td>\n",
       "      <td>0.0</td>\n",
       "      <td>1.0</td>\n",
       "      <td>1.0</td>\n",
       "      <td>1.0</td>\n",
       "      <td>0.498251</td>\n",
       "      <td>0.458210</td>\n",
       "      <td>0.0</td>\n",
       "      <td>1.677471e-01</td>\n",
       "      <td>-1.971871</td>\n",
       "    </tr>\n",
       "    <tr>\n",
       "      <th>annual_premium</th>\n",
       "      <td>381109.0</td>\n",
       "      <td>2630.0</td>\n",
       "      <td>24405.0</td>\n",
       "      <td>31669.0</td>\n",
       "      <td>39400.0</td>\n",
       "      <td>540165.0</td>\n",
       "      <td>537535.0</td>\n",
       "      <td>17213.155057</td>\n",
       "      <td>30564.389581</td>\n",
       "      <td>2630.0</td>\n",
       "      <td>1.766087e+00</td>\n",
       "      <td>34.004569</td>\n",
       "    </tr>\n",
       "    <tr>\n",
       "      <th>vintage</th>\n",
       "      <td>381109.0</td>\n",
       "      <td>10.0</td>\n",
       "      <td>82.0</td>\n",
       "      <td>154.0</td>\n",
       "      <td>227.0</td>\n",
       "      <td>299.0</td>\n",
       "      <td>289.0</td>\n",
       "      <td>83.671304</td>\n",
       "      <td>154.347397</td>\n",
       "      <td>256.0</td>\n",
       "      <td>3.029517e-03</td>\n",
       "      <td>-1.200688</td>\n",
       "    </tr>\n",
       "    <tr>\n",
       "      <th>response</th>\n",
       "      <td>381109.0</td>\n",
       "      <td>0.0</td>\n",
       "      <td>0.0</td>\n",
       "      <td>0.0</td>\n",
       "      <td>0.0</td>\n",
       "      <td>1.0</td>\n",
       "      <td>1.0</td>\n",
       "      <td>0.327936</td>\n",
       "      <td>0.122563</td>\n",
       "      <td>0.0</td>\n",
       "      <td>2.301906e+00</td>\n",
       "      <td>3.298788</td>\n",
       "    </tr>\n",
       "  </tbody>\n",
       "</table>\n",
       "</div>"
      ],
      "text/plain": [
       "                         count     min      25%       50%       75%       max  \\\n",
       "id                    381109.0  1.0     95278.0  190555.0  285832.0  381109.0   \n",
       "age                   381109.0  20.0    25.0     36.0      49.0      85.0       \n",
       "region_code           381109.0  0.0     15.0     28.0      35.0      52.0       \n",
       "policy_sales_channel  381109.0  1.0     29.0     133.0     152.0     163.0      \n",
       "driving_license       381109.0  0.0     1.0      1.0       1.0       1.0        \n",
       "previously_insured    381109.0  0.0     0.0      0.0       1.0       1.0        \n",
       "annual_premium        381109.0  2630.0  24405.0  31669.0   39400.0   540165.0   \n",
       "vintage               381109.0  10.0    82.0     154.0     227.0     299.0      \n",
       "response              381109.0  0.0     0.0      0.0       0.0       1.0        \n",
       "\n",
       "                         range            std           mean    mode  \\\n",
       "id                    381108.0  110016.836208  190555.000000  7.0      \n",
       "age                   65.0      15.511611      38.822584      24.0     \n",
       "region_code           52.0      13.229888      26.388807      28.0     \n",
       "policy_sales_channel  162.0     54.203995      112.034295     152.0    \n",
       "driving_license       1.0       0.046110       0.997869       1.0      \n",
       "previously_insured    1.0       0.498251       0.458210       0.0      \n",
       "annual_premium        537535.0  17213.155057   30564.389581   2630.0   \n",
       "vintage               289.0     83.671304      154.347397     256.0    \n",
       "response              1.0       0.327936       0.122563       0.0      \n",
       "\n",
       "                              skew    kurtosis  \n",
       "id                   -8.071174e-18 -1.200000    \n",
       "age                   6.725390e-01 -0.565655    \n",
       "region_code          -1.152664e-01 -0.867857    \n",
       "policy_sales_channel -9.000081e-01 -0.970810    \n",
       "driving_license      -2.159518e+01  464.354302  \n",
       "previously_insured    1.677471e-01 -1.971871    \n",
       "annual_premium        1.766087e+00  34.004569   \n",
       "vintage               3.029517e-03 -1.200688    \n",
       "response              2.301906e+00  3.298788    "
      ]
     },
     "execution_count": 105,
     "metadata": {},
     "output_type": "execute_result"
    }
   ],
   "source": [
    "# Calculating statistics\n",
    "descrip_stats_num = df3.describe()\n",
    "\n",
    "# mode\n",
    "descrip_stats_num.loc['mode'] = df3.apply(lambda x: st.mode(x))\n",
    "\n",
    "# range\n",
    "descrip_stats_num.loc['range'] = descrip_stats_num.loc['max'] - descrip_stats_num.loc['min']\n",
    "\n",
    "# skew\n",
    "descrip_stats_num.loc['skew'] = df3.skew()\n",
    "\n",
    "# kurtosis\n",
    "descrip_stats_num.loc['kurtosis'] = df3.kurtosis()\n",
    "\n",
    "\n",
    "descrip_stats_num.reindex(['count',\n",
    "                           'min',\n",
    "                           '25%',\n",
    "                           '50%',\n",
    "                           '75%',\n",
    "                           'max',\n",
    "                           'range',\n",
    "                           'std',\n",
    "                           'mean',\n",
    "                           'mode',\n",
    "                           'skew',\n",
    "                           'kurtosis']).T"
   ]
  },
  {
   "cell_type": "markdown",
   "metadata": {},
   "source": [
    "- Key points:\n",
    "    - Min age of customers is 20, max is 85 and mean is 38 years;\n",
    "    - annual_premium min is 2,630, max is 540,165 and mean is 30,564;\n",
    "    - Min of vintage is 10 days and mean is 154 days;\n",
    "    - Annual_premium has a range of 537,535\n",
    "    - There are more customers that already has driving license;\n",
    "    - There are more customers that doesn't have car insurance previusly;\n",
    "    - There are more customers that are not interested in getting a car insurance."
   ]
  },
  {
   "cell_type": "markdown",
   "metadata": {},
   "source": [
    "### 3.3.3. Categorical Attributes"
   ]
  },
  {
   "cell_type": "code",
   "execution_count": 95,
   "metadata": {
    "ExecuteTime": {
     "end_time": "2021-01-13T23:09:21.171143Z",
     "start_time": "2021-01-13T23:09:20.924418Z"
    }
   },
   "outputs": [
    {
     "data": {
      "text/html": [
       "<div>\n",
       "<style scoped>\n",
       "    .dataframe tbody tr th:only-of-type {\n",
       "        vertical-align: middle;\n",
       "    }\n",
       "\n",
       "    .dataframe tbody tr th {\n",
       "        vertical-align: top;\n",
       "    }\n",
       "\n",
       "    .dataframe thead th {\n",
       "        text-align: right;\n",
       "    }\n",
       "</style>\n",
       "<table border=\"1\" class=\"dataframe\">\n",
       "  <thead>\n",
       "    <tr style=\"text-align: right;\">\n",
       "      <th></th>\n",
       "      <th>gender</th>\n",
       "      <th>vehicle_age</th>\n",
       "      <th>vehicle_damage</th>\n",
       "    </tr>\n",
       "  </thead>\n",
       "  <tbody>\n",
       "    <tr>\n",
       "      <th>count</th>\n",
       "      <td>381109</td>\n",
       "      <td>381109</td>\n",
       "      <td>381109</td>\n",
       "    </tr>\n",
       "    <tr>\n",
       "      <th>unique</th>\n",
       "      <td>2</td>\n",
       "      <td>3</td>\n",
       "      <td>2</td>\n",
       "    </tr>\n",
       "    <tr>\n",
       "      <th>top</th>\n",
       "      <td>Male</td>\n",
       "      <td>1-2 Year</td>\n",
       "      <td>Yes</td>\n",
       "    </tr>\n",
       "    <tr>\n",
       "      <th>freq</th>\n",
       "      <td>206089</td>\n",
       "      <td>200316</td>\n",
       "      <td>192413</td>\n",
       "    </tr>\n",
       "    <tr>\n",
       "      <th>freq%</th>\n",
       "      <td>54.07613</td>\n",
       "      <td>52.561341</td>\n",
       "      <td>50.487656</td>\n",
       "    </tr>\n",
       "  </tbody>\n",
       "</table>\n",
       "</div>"
      ],
      "text/plain": [
       "          gender vehicle_age vehicle_damage\n",
       "count   381109    381109      381109       \n",
       "unique  2         3           2            \n",
       "top     Male      1-2 Year    Yes          \n",
       "freq    206089    200316      192413       \n",
       "freq%   54.07613  52.561341   50.487656    "
      ]
     },
     "execution_count": 95,
     "metadata": {},
     "output_type": "execute_result"
    }
   ],
   "source": [
    "descrip_stats_cat = df3.select_dtypes(include='object').describe()\n",
    "\n",
    "# Calculating frequency of most common category in percentage\n",
    "descrip_stats_cat.loc['freq%'] = ((descrip_stats_cat.loc['freq'] / df3.shape[0])*100)\n",
    "descrip_stats_cat"
   ]
  },
  {
   "cell_type": "markdown",
   "metadata": {},
   "source": [
    "- Key points:\n",
    "    - There are 54.07% of male in the dataset;\n",
    "    - There are 52.56% of cars with 1-2 years of age;\n",
    "    - There are 50.48% of vehicles that were damaged before."
   ]
  },
  {
   "cell_type": "code",
   "execution_count": null,
   "metadata": {},
   "outputs": [],
   "source": []
  }
 ],
 "metadata": {
  "kernelspec": {
   "display_name": "Python 3",
   "language": "python",
   "name": "python3"
  },
  "language_info": {
   "codemirror_mode": {
    "name": "ipython",
    "version": 3
   },
   "file_extension": ".py",
   "mimetype": "text/x-python",
   "name": "python",
   "nbconvert_exporter": "python",
   "pygments_lexer": "ipython3",
   "version": "3.8.0"
  }
 },
 "nbformat": 4,
 "nbformat_minor": 4
}
